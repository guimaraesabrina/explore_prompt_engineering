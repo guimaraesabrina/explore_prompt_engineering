{
  "nbformat": 4,
  "nbformat_minor": 0,
  "metadata": {
    "colab": {
      "provenance": []
    },
    "kernelspec": {
      "name": "python3",
      "display_name": "Python 3"
    },
    "language_info": {
      "name": "python"
    }
  },
  "cells": [
    {
      "cell_type": "markdown",
      "source": [
        "# Pathways Language Model (PaLM)"
      ],
      "metadata": {
        "id": "S1zf8rNLYcZt"
      }
    },
    {
      "cell_type": "markdown",
      "source": [
        "[Introducing PaLM 2](https://blog.google/technology/ai/google-palm-2-ai-large-language-model/) <br>\n",
        "[Pathways Language Model (PaLM)](https://ai.googleblog.com/2022/04/pathways-language-model-palm-scaling-to.html)"
      ],
      "metadata": {
        "id": "-zWBC1fYYkFm"
      }
    },
    {
      "cell_type": "markdown",
      "source": [
        "## PaLM 2 for Text"
      ],
      "metadata": {
        "id": "Lwq7QVcpY0IQ"
      }
    },
    {
      "cell_type": "markdown",
      "source": [
        "## PaLM 2 for Chat"
      ],
      "metadata": {
        "id": "2V_wkHXZrrKV"
      }
    },
    {
      "cell_type": "markdown",
      "source": [
        "# Testing PaLM 2 for Text"
      ],
      "metadata": {
        "id": "8oveLX0MuObm"
      }
    },
    {
      "cell_type": "markdown",
      "source": [
        "## Utterance Generation"
      ],
      "metadata": {
        "id": "fh-WiHvPzpvj"
      }
    },
    {
      "cell_type": "code",
      "source": [
        "\"\"\"\n",
        "Generate 10 unique intents consisting of questions, statements, and negations on the topic of \"order\".\n",
        "The context for this generation is: \"{}\". Avoid repetitive words and prepositions, and utilize synonyms where possible.\n",
        "Never quote the sentences. Keep the intended audience and stated purpose in mind while drafting.\n",
        "Vary the sentence structure to prevent monotony, and ensure that each sentence is coherent and clear to the reader.\n",
        "Number each sentence. All sentences must be written in \"en-us\"\n",
        "\"\"\""
      ],
      "metadata": {
        "id": "3mflJ-ajuTEw"
      },
      "execution_count": null,
      "outputs": []
    },
    {
      "cell_type": "code",
      "source": [
        "\"\"\"\n",
        "1. What is the order of the planets in our solar system?\n",
        "2. Can you order me a pizza?\n",
        "3. I need to order some new clothes.\n",
        "4. I would like to order a ticket to the movie.\n",
        "5. I need to order some flowers for my mother.\n",
        "6. I need to order some tickets to the concert.\n",
        "7. I need to order some tickets to the football game.\n",
        "8. I need to order some tickets to the baseball game.\n",
        "9. I need to order some tickets to the basketball game.\n",
        "10. I need to order some tickets to the hockey game.\n",
        "\"\"\""
      ],
      "metadata": {
        "id": "qzMda-3ouVNL"
      },
      "execution_count": null,
      "outputs": []
    },
    {
      "cell_type": "code",
      "source": [
        "\"\"\"\n",
        "Generate 10 unique intents consisting of questions, statements, and negations on the topic of \"pizza\".\n",
        "The context for this generation is: {context}. Avoid repetitive words and prepositions, and utilize synonyms where possible.\n",
        "Never quote the sentences. Keep the intended audience and stated purpose in mind while drafting.\n",
        "Vary the sentence structure to prevent monotony, and ensure that each sentence is coherent and clear to the reader.\n",
        "Number each sentence. All sentences must be written in \"en-us\"\n",
        "\"\"\""
      ],
      "metadata": {
        "id": "-wxBDUcLufoz"
      },
      "execution_count": null,
      "outputs": []
    },
    {
      "cell_type": "code",
      "source": [
        "\"\"\"\n",
        "1. What are your favorite pizza toppings?\n",
        "2. What kind of pizza do you like?\n",
        "3. Do you have any dietary restrictions?\n",
        "4. What is your budget for pizza?\n",
        "5. What is your preferred pizza delivery method?\n",
        "6. What is your preferred pizza restaurant?\n",
        "7. What is your favorite pizza memory?\n",
        "8. What is your least favorite pizza memory?\n",
        "9. What is the strangest pizza you have ever eaten?\n",
        "10. What is the most expensive pizza you have ever eaten?\n",
        "\n",
        "\"\"\""
      ],
      "metadata": {
        "id": "BE5TnAXWzlwP"
      },
      "execution_count": null,
      "outputs": []
    }
  ]
}